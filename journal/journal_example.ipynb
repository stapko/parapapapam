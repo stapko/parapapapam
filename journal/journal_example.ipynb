{
 "cells": [
  {
   "cell_type": "code",
   "execution_count": 1,
   "metadata": {
    "collapsed": false
   },
   "outputs": [],
   "source": [
    "from journal import WorkJournal\n",
    "\n",
    "from sklearn.linear_model import LogisticRegression\n",
    "from sklearn.linear_model import LinearRegression\n",
    "from sklearn.linear_model import Ridge\n",
    "log_reg_params = {\n",
    "                    'C' : [0.1, 0.2],\n",
    "                    'B' : [1, 2]\n",
    "                 }\n",
    "lin_reg_params = {\n",
    "                    'a' : [5, 6, 3],\n",
    "                    'k' : [8, 6, 3, 15],\n",
    "                    't' : ['a', 'b', 'c']\n",
    "                 }\n",
    "ridge_params = {\n",
    "                    'loss' : ['k', 'l', 0.3, 5],\n",
    "                    'pam' : [[1, 2, 3], 5, 27]\n",
    "               }"
   ]
  },
  {
   "cell_type": "code",
   "execution_count": 2,
   "metadata": {
    "collapsed": false
   },
   "outputs": [],
   "source": [
    "# Creating the journal\n",
    "\n",
    "wj = WorkJournal(filename='wj1_test.wj')"
   ]
  },
  {
   "cell_type": "code",
   "execution_count": 3,
   "metadata": {
    "collapsed": false
   },
   "outputs": [
    {
     "name": "stdout",
     "output_type": "stream",
     "text": [
      "Task in work already exist:LogisticRegression#{'C': [0.1, 0.2], 'B': [1, 2]}\n",
      "Task in work already exist:LinearRegression#{'a': [5, 6, 3], 'k': [8, 6, 3, 15], 't': ['a', 'b', 'c']}\n",
      "Task in work already exist:Ridge#{'loss': ['k', 'l', 0.3, 5], 'pam': [[1, 2, 3], 5, 27]}\n"
     ]
    }
   ],
   "source": [
    "# Adding new work\n",
    "# Let task be the following cortage: (Model, dict of params)\n",
    "# And work is one or few tasks\n",
    "# It allows to add new work it in different ways and they are equal\n",
    "# But if task has already in journal then it will not allow to add another one\n",
    "\n",
    "task1 = (LogisticRegression, log_reg_params)\n",
    "task2 = (LinearRegression, lin_reg_params)\n",
    "task3 = (Ridge, ridge_params)\n",
    "\n",
    "# Method 1 : Put few tasks\n",
    "wj.add_work(task1, task2, task3)"
   ]
  },
  {
   "cell_type": "code",
   "execution_count": 4,
   "metadata": {
    "collapsed": false
   },
   "outputs": [
    {
     "name": "stdout",
     "output_type": "stream",
     "text": [
      "Task in work already exist:LogisticRegression#{'C': [0.1, 0.2], 'B': [1, 2]}\n",
      "Task in work already exist:LinearRegression#{'a': [5, 6, 3], 'k': [8, 6, 3, 15], 't': ['a', 'b', 'c']}\n",
      "Task in work already exist:Ridge#{'loss': ['k', 'l', 0.3, 5], 'pam': [[1, 2, 3], 5, 27]}\n"
     ]
    }
   ],
   "source": [
    "# Method 2.1 : Put cortage of tasks\n",
    "wj.add_work((task1, task2, task3))"
   ]
  },
  {
   "cell_type": "code",
   "execution_count": 5,
   "metadata": {
    "collapsed": false
   },
   "outputs": [
    {
     "name": "stdout",
     "output_type": "stream",
     "text": [
      "Task in work already exist:LogisticRegression#{'C': [0.1, 0.2], 'B': [1, 2]}\n",
      "Task in work already exist:LinearRegression#{'a': [5, 6, 3], 'k': [8, 6, 3, 15], 't': ['a', 'b', 'c']}\n",
      "Task in work already exist:Ridge#{'loss': ['k', 'l', 0.3, 5], 'pam': [[1, 2, 3], 5, 27]}\n"
     ]
    }
   ],
   "source": [
    "# Method 2.2 : Put list of tasks\n",
    "wj.add_work([task1, task2, task3])"
   ]
  },
  {
   "cell_type": "code",
   "execution_count": 6,
   "metadata": {
    "collapsed": false
   },
   "outputs": [
    {
     "name": "stdout",
     "output_type": "stream",
     "text": [
      "Task in work already exist:Ridge#{'loss': ['k', 'l', 0.3, 5], 'pam': [[1, 2, 3], 5, 27]}\n",
      "Task in work already exist:LogisticRegression#{'C': [0.1, 0.2], 'B': [1, 2]}\n",
      "Task in work already exist:LinearRegression#{'a': [5, 6, 3], 'k': [8, 6, 3, 15], 't': ['a', 'b', 'c']}\n"
     ]
    }
   ],
   "source": [
    "# Method 3.1 : put dict of tasks as a key word argument\n",
    "wj.add_work(work={LogisticRegression : log_reg_params, LinearRegression : lin_reg_params, Ridge : ridge_params})"
   ]
  },
  {
   "cell_type": "code",
   "execution_count": 7,
   "metadata": {
    "collapsed": false
   },
   "outputs": [
    {
     "name": "stdout",
     "output_type": "stream",
     "text": [
      "Task in work already exist:LogisticRegression#{'C': [0.1, 0.2], 'B': [1, 2]}\n",
      "Task in work already exist:LinearRegression#{'a': [5, 6, 3], 'k': [8, 6, 3, 15], 't': ['a', 'b', 'c']}\n",
      "Task in work already exist:Ridge#{'loss': ['k', 'l', 0.3, 5], 'pam': [[1, 2, 3], 5, 27]}\n"
     ]
    }
   ],
   "source": [
    "# Method 3.2 : put cortage of tasks as a key word argument\n",
    "wj.add_work(work=(task1, task2, task3))"
   ]
  },
  {
   "cell_type": "code",
   "execution_count": 8,
   "metadata": {
    "collapsed": false
   },
   "outputs": [
    {
     "name": "stdout",
     "output_type": "stream",
     "text": [
      "Task in work already exist:LogisticRegression#{'C': [0.1, 0.2], 'B': [1, 2]}\n",
      "Task in work already exist:LinearRegression#{'a': [5, 6, 3], 'k': [8, 6, 3, 15], 't': ['a', 'b', 'c']}\n",
      "Task in work already exist:Ridge#{'loss': ['k', 'l', 0.3, 5], 'pam': [[1, 2, 3], 5, 27]}\n"
     ]
    }
   ],
   "source": [
    "# Method 3.3 : put list of tasks as a key word argument\n",
    "wj.add_work(work=[task1, task2, task3])"
   ]
  },
  {
   "cell_type": "code",
   "execution_count": 9,
   "metadata": {
    "collapsed": false
   },
   "outputs": [
    {
     "name": "stdout",
     "output_type": "stream",
     "text": [
      "(<class 'sklearn.linear_model.logistic.LogisticRegression'>, {'C': [0.1, 0.2], 'B': [1, 2]})\n",
      "(<class 'sklearn.linear_model.base.LinearRegression'>, {'a': [5, 6, 3], 'k': [8, 6, 3, 15], 't': ['a', 'b', 'c']})\n",
      "(<class 'sklearn.linear_model.ridge.Ridge'>, {'loss': ['k', 'l', 0.3, 5], 'pam': [[1, 2, 3], 5, 27]})\n"
     ]
    }
   ],
   "source": [
    "# Iterating through the tasks\n",
    "# You can use 'for each' loop but you have to call task_done() method after making some stuff\n",
    "# or you will get the same task\n",
    "\n",
    "for task in wj:\n",
    "    print(task)\n",
    "    wj.task_done(task)"
   ]
  },
  {
   "cell_type": "code",
   "execution_count": null,
   "metadata": {
    "collapsed": true
   },
   "outputs": [],
   "source": []
  }
 ],
 "metadata": {
  "anaconda-cloud": {},
  "kernelspec": {
   "display_name": "Python [conda root]",
   "language": "python",
   "name": "conda-root-py"
  },
  "language_info": {
   "codemirror_mode": {
    "name": "ipython",
    "version": 2
   },
   "file_extension": ".py",
   "mimetype": "text/x-python",
   "name": "python",
   "nbconvert_exporter": "python",
   "pygments_lexer": "ipython2",
   "version": "2.7.12"
  }
 },
 "nbformat": 4,
 "nbformat_minor": 1
}
