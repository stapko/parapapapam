{
 "cells": [
  {
   "cell_type": "code",
   "execution_count": 17,
   "metadata": {
    "collapsed": false
   },
   "outputs": [],
   "source": [
    "from _search import GranularGridSearchCVSave\n",
    "import pandas as pd\n",
    "import numpy as np\n",
    "from sklearn.linear_model import LogisticRegression\n",
    "from sklearn.grid_search import GridSearchCV\n",
    "from xgboost.sklearn import XGBClassifier"
   ]
  },
  {
   "cell_type": "code",
   "execution_count": 19,
   "metadata": {
    "collapsed": false
   },
   "outputs": [
    {
     "name": "stdout",
     "output_type": "stream",
     "text": [
      "Wall time: 16.8 s\n"
     ]
    }
   ],
   "source": [
    "%%time\n",
    "# Обычный GridSearch\n",
    "param_test1 = {\n",
    " 'max_depth':[3,4,5],\n",
    " 'min_child_weight':[1,2]\n",
    "}\n",
    "gsearch1 = GridSearchCV(estimator = XGBClassifier( learning_rate =0.05, n_estimators=127, max_depth=5,\n",
    " min_child_weight=1, gamma=0, subsample=0.8, colsample_bytree=0.8,\n",
    " objective= 'binary:logistic', nthread=-1, scale_pos_weight=1, seed=27), \n",
    " param_grid = param_test1, scoring='log_loss',n_jobs=-1,iid=False, cv=5)\n",
    "gsearch1.fit(train,labels)\n",
    "gsearch1.grid_scores_, gsearch1.best_params_, gsearch1.best_score_"
   ]
  },
  {
   "cell_type": "code",
   "execution_count": 22,
   "metadata": {
    "collapsed": false
   },
   "outputs": [
    {
     "name": "stdout",
     "output_type": "stream",
     "text": [
      "mean:-0.38276\tstd:0.00888\tcv:  5\tparams:{'max_depth': 3, 'min_child_weight': 1}\n",
      "mean:-0.38283\tstd:0.00895\tcv:  5\tparams:{'max_depth': 3, 'min_child_weight': 2}\n",
      "mean:-0.38200\tstd:0.00927\tcv:  5\tparams:{'max_depth': 4, 'min_child_weight': 1}\n",
      "mean:-0.38186\tstd:0.00926\tcv:  5\tparams:{'max_depth': 4, 'min_child_weight': 2}\n",
      "mean:-0.38241\tstd:0.00978\tcv:  5\tparams:{'max_depth': 5, 'min_child_weight': 1}\n",
      "mean:-0.38241\tstd:0.00971\tcv:  5\tparams:{'max_depth': 5, 'min_child_weight': 2}\n",
      "Wall time: 33.5 s\n"
     ]
    }
   ],
   "source": [
    "%%time\n",
    "gs = GranularGridSearchCVSave()\n",
    "gs.fit_and_save(XGBClassifier( learning_rate =0.05, n_estimators=127, max_depth=5,\n",
    " min_child_weight=1, gamma=0, subsample=0.8, colsample_bytree=0.8,\n",
    " objective= 'binary:logistic', nthread=-1, scale_pos_weight=1, seed=27),\n",
    "train,labels,param_test1,'neg_log_loss','xgb_test1.txt')"
   ]
  },
  {
   "cell_type": "code",
   "execution_count": 23,
   "metadata": {
    "collapsed": false
   },
   "outputs": [
    {
     "data": {
      "text/html": [
       "<div>\n",
       "<table border=\"1\" class=\"dataframe\">\n",
       "  <thead>\n",
       "    <tr style=\"text-align: right;\">\n",
       "      <th></th>\n",
       "      <th>mean</th>\n",
       "      <th>std</th>\n",
       "      <th>cv</th>\n",
       "      <th>params</th>\n",
       "    </tr>\n",
       "  </thead>\n",
       "  <tbody>\n",
       "    <tr>\n",
       "      <th>0</th>\n",
       "      <td>-0.382758</td>\n",
       "      <td>0.008881</td>\n",
       "      <td>5</td>\n",
       "      <td>{'max_depth': 3, 'min_child_weight': 1}</td>\n",
       "    </tr>\n",
       "    <tr>\n",
       "      <th>1</th>\n",
       "      <td>-0.382829</td>\n",
       "      <td>0.008954</td>\n",
       "      <td>5</td>\n",
       "      <td>{'max_depth': 3, 'min_child_weight': 2}</td>\n",
       "    </tr>\n",
       "    <tr>\n",
       "      <th>2</th>\n",
       "      <td>-0.381997</td>\n",
       "      <td>0.009265</td>\n",
       "      <td>5</td>\n",
       "      <td>{'max_depth': 4, 'min_child_weight': 1}</td>\n",
       "    </tr>\n",
       "    <tr>\n",
       "      <th>3</th>\n",
       "      <td>-0.381857</td>\n",
       "      <td>0.009259</td>\n",
       "      <td>5</td>\n",
       "      <td>{'max_depth': 4, 'min_child_weight': 2}</td>\n",
       "    </tr>\n",
       "    <tr>\n",
       "      <th>4</th>\n",
       "      <td>-0.382405</td>\n",
       "      <td>0.009783</td>\n",
       "      <td>5</td>\n",
       "      <td>{'max_depth': 5, 'min_child_weight': 1}</td>\n",
       "    </tr>\n",
       "  </tbody>\n",
       "</table>\n",
       "</div>"
      ],
      "text/plain": [
       "       mean       std  cv                                   params\n",
       "0 -0.382758  0.008881   5  {'max_depth': 3, 'min_child_weight': 1}\n",
       "1 -0.382829  0.008954   5  {'max_depth': 3, 'min_child_weight': 2}\n",
       "2 -0.381997  0.009265   5  {'max_depth': 4, 'min_child_weight': 1}\n",
       "3 -0.381857  0.009259   5  {'max_depth': 4, 'min_child_weight': 2}\n",
       "4 -0.382405  0.009783   5  {'max_depth': 5, 'min_child_weight': 1}"
      ]
     },
     "execution_count": 23,
     "metadata": {},
     "output_type": "execute_result"
    }
   ],
   "source": [
    "data = pd.read_csv('xgb_test1.txt',delimiter='\\t')\n",
    "data.head()"
   ]
  },
  {
   "cell_type": "code",
   "execution_count": 24,
   "metadata": {
    "collapsed": false
   },
   "outputs": [],
   "source": [
    "# Пробую продолжить писать в файл с той же сеткой(ничего не должно произойти, т.к. мы всю сетку уже прошли)\n",
    "gs.fit_and_save(XGBClassifier( learning_rate =0.05, n_estimators=127, max_depth=5,\n",
    " min_child_weight=1, gamma=0, subsample=0.8, colsample_bytree=0.8,\n",
    " objective= 'binary:logistic', nthread=-1, scale_pos_weight=1, seed=27),\n",
    "train,labels,param_test1,'neg_log_loss','xgb_test1.txt')"
   ]
  }
 ],
 "metadata": {
  "anaconda-cloud": {},
  "kernelspec": {
   "display_name": "Python [conda root]",
   "language": "python",
   "name": "conda-root-py"
  },
  "language_info": {
   "codemirror_mode": {
    "name": "ipython",
    "version": 2
   },
   "file_extension": ".py",
   "mimetype": "text/x-python",
   "name": "python",
   "nbconvert_exporter": "python",
   "pygments_lexer": "ipython2",
   "version": "2.7.12"
  }
 },
 "nbformat": 4,
 "nbformat_minor": 1
}
